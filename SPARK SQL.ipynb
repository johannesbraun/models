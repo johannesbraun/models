{
 "metadata": {
  "name": "",
  "signature": "sha256:268eb1b3d82cf328a7615e4aca56f24300e10f6e332a3a90fd679ebf63ef9136"
 },
 "nbformat": 3,
 "nbformat_minor": 0,
 "worksheets": [
  {
   "cells": [
    {
     "cell_type": "code",
     "collapsed": false,
     "input": [
      "from pyspark import SparkContext\n",
      "from pyspark.sql import SQLContext\n",
      "from pyspark.sql import Row\n",
      "import math\n",
      "\n",
      "#sc = SparkContext()\n",
      "sqlCtx = SQLContext(sc)\n",
      "# Read from CSV\n",
      "def load_csv(line):\n",
      "    return line.split(\"::\")\n",
      "\n",
      "# Parse movie CSV\n",
      "def parseMovie(u):\n",
      "    return Row(id=u[0], title=u[1], genre=u[2])\n",
      "\n",
      "# Parse users CSV\n",
      "def parseUser(u):\n",
      "    return (u[0], (u[1],u[2]))\n",
      "\n",
      "# Parse ratings CSV\n",
      "def parseRating(r):\n",
      "    return Row(user=r[0], movie = r[1],score = float(r[2]))"
     ],
     "language": "python",
     "metadata": {},
     "outputs": [],
     "prompt_number": 48
    },
    {
     "cell_type": "code",
     "collapsed": false,
     "input": [
      "#IPYTHON_OPTS=\"notebook --pylab inline\" ./bin/pyspark"
     ],
     "language": "python",
     "metadata": {},
     "outputs": [],
     "prompt_number": 4
    },
    {
     "cell_type": "code",
     "collapsed": false,
     "input": [
      "%pwd"
     ],
     "language": "python",
     "metadata": {},
     "outputs": [
      {
       "metadata": {},
       "output_type": "pyout",
       "prompt_number": 2,
       "text": [
        "u'/Users/Johannes/Dropbox/DSR/bigdata/spark'"
       ]
      }
     ],
     "prompt_number": 2
    },
    {
     "cell_type": "code",
     "collapsed": false,
     "input": [
      "%cd /Users/Johannes/Dropbox/DSR/Recommendations/movielens"
     ],
     "language": "python",
     "metadata": {},
     "outputs": [
      {
       "output_type": "stream",
       "stream": "stdout",
       "text": [
        "/Users/Johannes/Dropbox/DSR/Recommendations/movielens\n"
       ]
      }
     ],
     "prompt_number": 3
    },
    {
     "cell_type": "code",
     "collapsed": false,
     "input": [
      "movies = sc.textFile(\"/Users/Johannes/Dropbox/DSR/Recommendations/movielens/movies.dat\").map(load_csv).map(parseMovie)"
     ],
     "language": "python",
     "metadata": {},
     "outputs": [],
     "prompt_number": 4
    },
    {
     "cell_type": "code",
     "collapsed": false,
     "input": [
      "print movies.first()"
     ],
     "language": "python",
     "metadata": {},
     "outputs": [
      {
       "output_type": "stream",
       "stream": "stdout",
       "text": [
        "Row(genre=u\"Animation|Children's|Comedy\", id=u'1', title=u'Toy Story (1995)')\n"
       ]
      }
     ],
     "prompt_number": 5
    },
    {
     "cell_type": "code",
     "collapsed": false,
     "input": [
      "ratings = sc.textFile(\"/Users/Johannes/Dropbox/DSR/Recommendations/movielens/data.train.80\").map(load_csv).map(parseRating)"
     ],
     "language": "python",
     "metadata": {},
     "outputs": [],
     "prompt_number": 50
    },
    {
     "cell_type": "code",
     "collapsed": false,
     "input": [
      "print ratings.first()"
     ],
     "language": "python",
     "metadata": {},
     "outputs": [
      {
       "output_type": "stream",
       "stream": "stdout",
       "text": [
        "Row(movie=u'661', score=3.0, user=u'1')\n"
       ]
      }
     ],
     "prompt_number": 7
    },
    {
     "cell_type": "code",
     "collapsed": false,
     "input": [
      "moviesTable = sqlCtx.inferSchema(movies)\n",
      "moviesTable.registerTempTable(\"movie_table\")\n",
      "\n",
      "ratingsTable = sqlCtx.inferSchema(ratings)\n",
      "ratingsTable.registerTempTable(\"rating_table\")"
     ],
     "language": "python",
     "metadata": {},
     "outputs": [],
     "prompt_number": 51
    },
    {
     "cell_type": "code",
     "collapsed": false,
     "input": [
      "statement = \"\"\"\n",
      "select \n",
      "r.score as sc1,\n",
      "count(*) as movies\n",
      "from rating_table r \n",
      "group by r.score\n",
      "\"\"\"\n",
      "pairs = sqlCtx.sql(statement)\n",
      "pairs.registerTempTable(\"pairs\")"
     ],
     "language": "python",
     "metadata": {},
     "outputs": [],
     "prompt_number": 9
    },
    {
     "cell_type": "code",
     "collapsed": false,
     "input": [
      "p = pairs.collect()"
     ],
     "language": "python",
     "metadata": {},
     "outputs": [],
     "prompt_number": 10
    },
    {
     "cell_type": "code",
     "collapsed": false,
     "input": [
      "p"
     ],
     "language": "python",
     "metadata": {},
     "outputs": [
      {
       "metadata": {},
       "output_type": "pyout",
       "prompt_number": 11,
       "text": [
        "[Row(sc1=1.0, movies=44814),\n",
        " Row(sc1=3.0, movies=209084),\n",
        " Row(sc1=5.0, movies=181174),\n",
        " Row(sc1=4.0, movies=279020),\n",
        " Row(sc1=2.0, movies=86076)]"
       ]
      }
     ],
     "prompt_number": 11
    },
    {
     "cell_type": "code",
     "collapsed": false,
     "input": [
      "statement = \"\"\"\n",
      "select \n",
      "r.movie as m1,\n",
      "r2.movie as m2,\n",
      "count(*) as inter\n",
      "from rating_table r \n",
      "join rating_table r2 on (r.user=r2.user)\n",
      "group by r.movie, r2.movie\n",
      "having inter >10 \n",
      "order by inter desc \n",
      "\"\"\"\n",
      "\n",
      "pairs = sqlCtx.sql(statement)\n",
      "pairs.registerTempTable(\"pairs\")"
     ],
     "language": "python",
     "metadata": {},
     "outputs": [],
     "prompt_number": 12
    },
    {
     "cell_type": "code",
     "collapsed": false,
     "input": [
      "statement2 = \"\"\"\n",
      "select \n",
      "r.movie as id,\n",
      "count(*) as freq\n",
      "from rating_table r \n",
      "group by r.movie\n",
      "having freq >10 \n",
      "order by freq desc \n",
      "\"\"\"\n",
      "\n",
      "frequencies = sqlCtx.sql(statement2)\n",
      "frequencies.registerTempTable(\"frequencies\")\n"
     ],
     "language": "python",
     "metadata": {},
     "outputs": [],
     "prompt_number": 13
    },
    {
     "cell_type": "code",
     "collapsed": false,
     "input": [
      "statement4a = \"\"\"\n",
      "select \n",
      "r.m1,\n",
      "r.m2,\n",
      "r.inter,\n",
      "fr1.freq as freq1\n",
      "from pairs r\n",
      "join frequencies fr1 on (r.m1 = fr1.id)\n",
      "group by \n",
      "r.m1,\n",
      "r.m2,\n",
      "r.inter,\n",
      "fr1.freq\n",
      "\"\"\"\n",
      "\n",
      "candidates1 = sqlCtx.sql(statement4a)\n",
      "candidates1.registerTempTable(\"candidates1\")"
     ],
     "language": "python",
     "metadata": {},
     "outputs": [],
     "prompt_number": 14
    },
    {
     "cell_type": "code",
     "collapsed": false,
     "input": [
      "statement4b = \"\"\"\n",
      "select \n",
      "r.m1,\n",
      "r.m2,\n",
      "r.inter,\n",
      "r.freq1, \n",
      "fr2.freq as freq2,\n",
      "r.inter/sqrt(r.freq1*fr2.freq) as normalized_score\n",
      "from candidates1 r\n",
      "join frequencies fr2 on (r.m2 = fr2.id)\n",
      "group by r.m1,\n",
      "r.m2,\n",
      "r.inter,\n",
      "r.freq1, \n",
      "fr2.freq,\n",
      "r.inter/sqrt(r.freq1*fr2.freq) \n",
      "\"\"\"\n",
      "\n",
      "candidates = sqlCtx.sql(statement4b)\n",
      "candidates.registerTempTable(\"candidates\")"
     ],
     "language": "python",
     "metadata": {},
     "outputs": [],
     "prompt_number": 15
    },
    {
     "cell_type": "code",
     "collapsed": false,
     "input": [
      "statement5 = \"\"\"\n",
      "select\n",
      "r.m1,\n",
      "r.m2,\n",
      "r.inter,\n",
      "r.freq1, \n",
      "r.freq2,\n",
      "r.normalized_score\n",
      "from candidates r\n",
      "group by r.m1,\n",
      "r.m2,\n",
      "r.inter,\n",
      "r.freq1, \n",
      "r.freq2,\n",
      "r.normalized_score\n",
      "having inter >10\n",
      "order by r.m1, r.normalized_score desc\n",
      "\"\"\"\n",
      "\n",
      "ranked_candidates = sqlCtx.sql(statement5)\n",
      "ranked_candidates.registerTempTable(\"ranked_candidates\")"
     ],
     "language": "python",
     "metadata": {},
     "outputs": [],
     "prompt_number": 16
    },
    {
     "cell_type": "code",
     "collapsed": false,
     "input": [
      "rc = candidates.collect()"
     ],
     "language": "python",
     "metadata": {},
     "outputs": [],
     "prompt_number": 17
    },
    {
     "cell_type": "code",
     "collapsed": false,
     "input": [
      "rc[1:3]"
     ],
     "language": "python",
     "metadata": {},
     "outputs": [
      {
       "metadata": {},
       "output_type": "pyout",
       "prompt_number": 19,
       "text": [
        "[Row(m1=u'835', m2=u'719', inter=12, freq1=75, freq2=201, normalized_score=0.09773555548504419),\n",
        " Row(m1=u'3147', m2=u'2683', inter=276, freq1=962, freq2=1148, normalized_score=0.26263379066848624)]"
       ]
      }
     ],
     "prompt_number": 19
    },
    {
     "cell_type": "code",
     "collapsed": false,
     "input": [
      "len(rc)"
     ],
     "language": "python",
     "metadata": {},
     "outputs": [
      {
       "metadata": {},
       "output_type": "pyout",
       "prompt_number": 21,
       "text": [
        "4558110"
       ]
      }
     ],
     "prompt_number": 21
    },
    {
     "cell_type": "code",
     "collapsed": false,
     "input": [
      "from pandas import DataFrame"
     ],
     "language": "python",
     "metadata": {},
     "outputs": [],
     "prompt_number": 22
    },
    {
     "cell_type": "code",
     "collapsed": false,
     "input": [
      "df = DataFrame(rc[0:10])\n",
      "df.columns=['m1','m2','inter', 'freq1', 'freq2', 'score_alpha_0_5']"
     ],
     "language": "python",
     "metadata": {},
     "outputs": [],
     "prompt_number": 37
    },
    {
     "cell_type": "code",
     "collapsed": false,
     "input": [
      "df"
     ],
     "language": "python",
     "metadata": {},
     "outputs": [
      {
       "html": [
        "<div style=\"max-height:1000px;max-width:1500px;overflow:auto;\">\n",
        "<table border=\"1\" class=\"dataframe\">\n",
        "  <thead>\n",
        "    <tr style=\"text-align: right;\">\n",
        "      <th></th>\n",
        "      <th>m1</th>\n",
        "      <th>m2</th>\n",
        "      <th>inter</th>\n",
        "      <th>freq1</th>\n",
        "      <th>freq2</th>\n",
        "      <th>score_alpha_0_5</th>\n",
        "      <th>score_alpha_0_25</th>\n",
        "      <th>score_alpha_0_52</th>\n",
        "    </tr>\n",
        "  </thead>\n",
        "  <tbody>\n",
        "    <tr>\n",
        "      <th>0</th>\n",
        "      <td> 3511</td>\n",
        "      <td> 1792</td>\n",
        "      <td>  11</td>\n",
        "      <td>   52</td>\n",
        "      <td>  363</td>\n",
        "      <td> 0.080064</td>\n",
        "      <td> 0.049256</td>\n",
        "      <td> 0.080064</td>\n",
        "    </tr>\n",
        "    <tr>\n",
        "      <th>1</th>\n",
        "      <td>  835</td>\n",
        "      <td>  719</td>\n",
        "      <td>  12</td>\n",
        "      <td>   75</td>\n",
        "      <td>  201</td>\n",
        "      <td> 0.097736</td>\n",
        "      <td> 0.076387</td>\n",
        "      <td> 0.097736</td>\n",
        "    </tr>\n",
        "    <tr>\n",
        "      <th>2</th>\n",
        "      <td> 3147</td>\n",
        "      <td> 2683</td>\n",
        "      <td> 276</td>\n",
        "      <td>  962</td>\n",
        "      <td> 1148</td>\n",
        "      <td> 0.262634</td>\n",
        "      <td> 0.251281</td>\n",
        "      <td> 0.262634</td>\n",
        "    </tr>\n",
        "    <tr>\n",
        "      <th>3</th>\n",
        "      <td> 2575</td>\n",
        "      <td> 3079</td>\n",
        "      <td>  13</td>\n",
        "      <td>  112</td>\n",
        "      <td>  118</td>\n",
        "      <td> 0.113082</td>\n",
        "      <td> 0.111616</td>\n",
        "      <td> 0.113082</td>\n",
        "    </tr>\n",
        "    <tr>\n",
        "      <th>4</th>\n",
        "      <td> 1271</td>\n",
        "      <td> 1792</td>\n",
        "      <td>  71</td>\n",
        "      <td>  488</td>\n",
        "      <td>  363</td>\n",
        "      <td> 0.168692</td>\n",
        "      <td> 0.181645</td>\n",
        "      <td> 0.168692</td>\n",
        "    </tr>\n",
        "    <tr>\n",
        "      <th>5</th>\n",
        "      <td>  932</td>\n",
        "      <td> 2683</td>\n",
        "      <td>  36</td>\n",
        "      <td>  146</td>\n",
        "      <td> 1148</td>\n",
        "      <td> 0.087934</td>\n",
        "      <td> 0.052512</td>\n",
        "      <td> 0.087934</td>\n",
        "    </tr>\n",
        "    <tr>\n",
        "      <th>6</th>\n",
        "      <td>  318</td>\n",
        "      <td> 1954</td>\n",
        "      <td> 421</td>\n",
        "      <td> 1800</td>\n",
        "      <td>  889</td>\n",
        "      <td> 0.332809</td>\n",
        "      <td> 0.396997</td>\n",
        "      <td> 0.332809</td>\n",
        "    </tr>\n",
        "    <tr>\n",
        "      <th>7</th>\n",
        "      <td>  508</td>\n",
        "      <td>   32</td>\n",
        "      <td> 213</td>\n",
        "      <td>  437</td>\n",
        "      <td> 1207</td>\n",
        "      <td> 0.293282</td>\n",
        "      <td> 0.227499</td>\n",
        "      <td> 0.293282</td>\n",
        "    </tr>\n",
        "    <tr>\n",
        "      <th>8</th>\n",
        "      <td>  277</td>\n",
        "      <td> 3079</td>\n",
        "      <td>  13</td>\n",
        "      <td>  135</td>\n",
        "      <td>  118</td>\n",
        "      <td> 0.103000</td>\n",
        "      <td> 0.106524</td>\n",
        "      <td> 0.103000</td>\n",
        "    </tr>\n",
        "    <tr>\n",
        "      <th>9</th>\n",
        "      <td> 1252</td>\n",
        "      <td> 2188</td>\n",
        "      <td>  36</td>\n",
        "      <td>  962</td>\n",
        "      <td>  221</td>\n",
        "      <td> 0.078076</td>\n",
        "      <td> 0.112775</td>\n",
        "      <td> 0.078076</td>\n",
        "    </tr>\n",
        "  </tbody>\n",
        "</table>\n",
        "</div>"
       ],
       "metadata": {},
       "output_type": "pyout",
       "prompt_number": 46,
       "text": [
        "     m1    m2  inter  freq1  freq2  score_alpha_0_5  score_alpha_0_25  \\\n",
        "0  3511  1792     11     52    363         0.080064          0.049256   \n",
        "1   835   719     12     75    201         0.097736          0.076387   \n",
        "2  3147  2683    276    962   1148         0.262634          0.251281   \n",
        "3  2575  3079     13    112    118         0.113082          0.111616   \n",
        "4  1271  1792     71    488    363         0.168692          0.181645   \n",
        "5   932  2683     36    146   1148         0.087934          0.052512   \n",
        "6   318  1954    421   1800    889         0.332809          0.396997   \n",
        "7   508    32    213    437   1207         0.293282          0.227499   \n",
        "8   277  3079     13    135    118         0.103000          0.106524   \n",
        "9  1252  2188     36    962    221         0.078076          0.112775   \n",
        "\n",
        "   score_alpha_0_52  \n",
        "0          0.080064  \n",
        "1          0.097736  \n",
        "2          0.262634  \n",
        "3          0.113082  \n",
        "4          0.168692  \n",
        "5          0.087934  \n",
        "6          0.332809  \n",
        "7          0.293282  \n",
        "8          0.103000  \n",
        "9          0.078076  "
       ]
      }
     ],
     "prompt_number": 46
    },
    {
     "cell_type": "code",
     "collapsed": false,
     "input": [
      "df['score_alpha_0_25']= df.inter/((df.freq1**0.25)*(df.freq2**0.75))"
     ],
     "language": "python",
     "metadata": {},
     "outputs": [],
     "prompt_number": 44
    },
    {
     "cell_type": "code",
     "collapsed": false,
     "input": [
      "#df['score_alpha_0_5_v2']= df.inter/((df.freq1**0.5)*(df.freq2**0.5))"
     ],
     "language": "python",
     "metadata": {},
     "outputs": [],
     "prompt_number": 47
    }
   ],
   "metadata": {}
  }
 ]
}